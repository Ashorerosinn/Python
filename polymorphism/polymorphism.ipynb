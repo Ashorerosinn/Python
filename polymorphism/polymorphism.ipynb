{
  "metadata": {
    "language_info": {
      "codemirror_mode": {
        "name": "python",
        "version": 3
      },
      "file_extension": ".py",
      "mimetype": "text/x-python",
      "name": "python",
      "nbconvert_exporter": "python",
      "pygments_lexer": "ipython3",
      "version": "3.8"
    },
    "kernelspec": {
      "name": "python",
      "display_name": "Python (Pyodide)",
      "language": "python"
    }
  },
  "nbformat_minor": 4,
  "nbformat": 4,
  "cells": [
    {
      "cell_type": "code",
      "source": "#polymorphism\nprint(len('polymorphism')\nprint(len([1,2,5.2,4,5.6,8]))",
      "metadata": {
        "trusted": true
      },
      "execution_count": null,
      "outputs": []
    },
    {
      "cell_type": "code",
      "source": "print(\"divya\"+\"\"+\"singh\")\nprint(8+9)",
      "metadata": {},
      "execution_count": null,
      "outputs": []
    },
    {
      "cell_type": "code",
      "source": "#polymorphism with function and object\n\nclass employee1:\n    def name (self):\n    print(\"Harshit is his name\")\n    \n    def salary(self):\n    print(\"3000 is his salary\")\nclass employee2:\n    def name (self):\n    print(\"Rahul is his name\")\ndef salary(self):\n    print(\"4000 is his salary\")\n    \ndef func(obj):\nobj.name()\nobj.salary()\n\nobj_emp1 = employeel()\nobj_emp2 = employee2()\n\nfunc(obj_emp1)\nfunc(obj_emp2)",
      "metadata": {},
      "execution_count": null,
      "outputs": []
    },
    {
      "cell_type": "code",
      "source": "#polymorphism with class methods\n    class Student1:\n        def name (self):\n        print(\"divya\")\n        \n        def language(self):\n        print(\"Hindi and English\")\nclass Student2:\n       def name (self):\n        print(\"Diksha\")\n        \n        def language(self):\n        print(\"English\")\n        \nobj_1 = Student1()\nobj 2 = Student2()\nfor std in (obj_1, obj_2):\n    std.name()\n    std.language()",
      "metadata": {},
      "execution_count": null,
      "outputs": []
    },
    {
      "cell_type": "code",
      "source": "#polymorphism with inheritance\nclass student:\n     def intro(self):\n        print(\"Welcome to university\")\n    def course(self):\n        print(\"Most of the students interested in technical courses\")\nclass java (student):\n    def course(self):\n    print(\"learn java from scratch\")\nclass python (student):\n    def course(self):\n    print(\"learn python from scratch\")\n\nobj_s = student ()\nobj_j = java ()\nobj_p = python()\n\nobj_s.intro()\nobj_s.course()\n\nobj_j.intro()\nobj_j.course()\n\nobj_p.intro()\nobj_p.course()",
      "metadata": {},
      "execution_count": null,
      "outputs": []
    },
    {
      "cell_type": "code",
      "source": "#method overriding\nclass person: # parent class\n    def __init__(self, name, age, gender):\n        self.name=name\n        self.age=age\n        self.gender-gender\n    def greet (self):\n        print(\"Hello Person\")\n        print (self.name, self.age, self.gender)\n        \nclass student(person): #child class\n    def init_(self, name, age, gender, sid, fees):\n        person. init (self,name, age, gender)\n        self.sid=sid\n        self.fees-fees\n    \n    def greet (self):\n        print(\"Hello student\")\n        print(self.name, self.age,self.gender,self.sid, self.fees)\n    \nstud=student(\"divya\",45,\"female\",8,89000)\nstud.greet()\n\np=person(\"shiv\",13,\"male\")\np.greet()",
      "metadata": {},
      "execution_count": null,
      "outputs": []
    },
    {
      "cell_type": "code",
      "source": "class Person:\n     def init_(self, name, age):\n        self.name = name\n        self.age= age\n\n    def display (self):\n        print (self.name)\n        print (self.age)  \np = Person ('Shivani', 30)\n#accessing using class method\np.display()\n#accessing directly from outside\nprint (p.name)\nprint(p.age)",
      "metadata": {},
      "execution_count": null,
      "outputs": []
    },
    {
      "cell_type": "code",
      "source": "class Person:\n    def init_(self, name, age=0):\n        self.name = name\n        self.__ age = age\n    def display (self):\n        print (self.name)\n        print (self.__age)\np = Person ('shivani', 39)\n#accessing using class method\np.display()\n#accessing directly from outside\nprint('Trying to access variables from outside the class ')\nprint (p.name)\nprint (p.__age)",
      "metadata": {},
      "execution_count": null,
      "outputs": []
    },
    {
      "cell_type": "code",
      "source": "class Person:\n    def init_(self, name, age=0):\n        self.name = name\n        self._ age = age\n    def display (self):\n        print (self.name)\n        print (self.__age)\np = Person ('shivani', 39)\n#accessing using class method\np.display()\n#accessing directly from outside\nprint('Trying to access variables from outside the class ')\nprint (p.name)\nprint (p._age)",
      "metadata": {},
      "execution_count": null,
      "outputs": []
    },
    {
      "cell_type": "code",
      "source": "class Person:\n    def init_(self, name, age=0):\n        self.name = name\n        self._age = age\n    def display (self):\n        print (self.name)\n        print (self.__age)\np = Person ('shivani')\n#accessing using class method\np.display()\n#accessing directly from outside\nprint('Trying to access variables from outside the class ')\nprint (p.name)\nprint (p._age)",
      "metadata": {},
      "execution_count": null,
      "outputs": []
    },
    {
      "cell_type": "code",
      "source": "class Person:\n    def init_(self, name, age=0):\n        self.name = name\n        self.__age = age\n    def display (self):\n        print (self.name)\n        print (self.__age)\np = Person ('shivani')\n#accessing using class method\np.display()\n#accessing directly from outside\nprint('Trying to access variables from outside the class ')\nprint (p.name)\nprint (p.__age)",
      "metadata": {},
      "execution_count": null,
      "outputs": []
    },
    {
      "cell_type": "code",
      "source": "class Person:\n    def __init__ (self, name, age):\n        self.name = name\n        self. age =age\n        \n    def display (self):\n        print(self.name)\n        print (self.__age)\n        \n    def getAge(self):\n        print (self.__age)\n        \n    def setAge(self, age):\n        self.__age=age\n        \np= Person('shivani', 39)\n          \np.display()\np.setAge(12)\np.getAge()\nSh",
      "metadata": {},
      "execution_count": null,
      "outputs": []
    },
    {
      "cell_type": "code",
      "source": "#Encapsulation and polymorphism\nclass Computer:\n     def __init__(self):\n        self.__maxprice = 900\n        \n    def sell (self):\n        print(\"Selling Price: {}\".format(self.___maxprice))\n        \n    def setMaxPrice(self, price):\n        self.__maxprice = price\n        \nc = Computer ()\nc.sell()\n\n#change the price\nc. maxprice = 1000\nc.sell()\n# using setter function\nc.setMaxPrice (1200)\nc.sell()\n",
      "metadata": {},
      "execution_count": null,
      "outputs": []
    }
  ]
}