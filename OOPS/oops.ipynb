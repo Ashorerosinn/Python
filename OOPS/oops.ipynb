{
  "metadata": {
    "language_info": {
      "codemirror_mode": {
        "name": "python",
        "version": 3
      },
      "file_extension": ".py",
      "mimetype": "text/x-python",
      "name": "python",
      "nbconvert_exporter": "python",
      "pygments_lexer": "ipython3",
      "version": "3.8"
    },
    "kernelspec": {
      "name": "python",
      "display_name": "Python (Pyodide)",
      "language": "python"
    }
  },
  "nbformat_minor": 4,
  "nbformat": 4,
  "cells": [
    {
      "cell_type": "code",
      "source": "class my:\n       v=10\n    obj=my()\n    print(obj.v)",
      "metadata": {},
      "execution_count": null,
      "outputs": []
    },
    {
      "cell_type": "code",
      "source": "class emoloyee:\n    def __int__(self,name,eid):# for initialization\n        self.name=name\n        self.eid=eid\n        \n    def greet(self):\n        print(\"welcome for joining!!\",self.name)\n        ",
      "metadata": {},
      "execution_count": null,
      "outputs": []
    },
    {
      "cell_type": "code",
      "source": "class num:\n     def add(self,a,b):\n            s=a+b\n        return s\n    \na= int(input(\"Enter the number\")\nb= int(input(\"Enter the number\")\n    obj=num()\n    s=obj.add(a,b)\nprint(\"Sum is:\" , s)\n    \n    ",
      "metadata": {},
      "execution_count": null,
      "outputs": []
    },
    {
      "cell_type": "code",
      "source": "class num:\n     def add(self,a,b):\n            s=a+b\n        print(\"Sum is:\" , s)\n    \na= int(input(\"Enter the number\")\nb= int(input(\"Enter the number\")\n    obj=num()\n    s=obj.add(a,b)\n\n    \n    ",
      "metadata": {
        "trusted": true
      },
      "execution_count": null,
      "outputs": []
    },
    {
      "cell_type": "code",
      "source": "class employee:\n    def greet(self):\n        s=\"Ashore\"\n        print(\"Welcome for joining!!! \",s)\n        \n    emp1= employee()\n    \n    emp1.greet()",
      "metadata": {},
      "execution_count": null,
      "outputs": []
    },
    {
      "cell_type": "code",
      "source": "print(employee.__dict__)",
      "metadata": {},
      "execution_count": null,
      "outputs": []
    },
    {
      "cell_type": "code",
      "source": "print(employee.__doc__)",
      "metadata": {},
      "execution_count": null,
      "outputs": []
    },
    {
      "cell_type": "code",
      "source": "print(employee.__name__)",
      "metadata": {},
      "execution_count": null,
      "outputs": []
    },
    {
      "cell_type": "code",
      "source": "print(employee.__bases__)",
      "metadata": {},
      "execution_count": null,
      "outputs": []
    },
    {
      "cell_type": "code",
      "source": "class hospital :\n     def add(self,a,b):\n            total=a+b\n        print(\"Total number of patient:\" , total)\n        \na=int(input(\" patient have covid\")\nb=int(input(\"patient with other disease\")    \n      \n    obj=hospital()\n    total=obj.add(a,b)\n",
      "metadata": {},
      "execution_count": null,
      "outputs": []
    },
    {
      "cell_type": "code",
      "source": "#parameterized constructor\nclass employee:\n    def __init__(self,name,eid):\n        self.name=name\n        self.eid=eid\n        \n    def greet(self):\n        print(\"welcome for joining !!!\",self.name)\n\nemp1= employee(\"divya\",12)\n\nprint(\"id:\",emp1.eid)\nprint(\"name:\",emp1.name)\nemp1.greet()",
      "metadata": {},
      "execution_count": null,
      "outputs": []
    },
    {
      "cell_type": "code",
      "source": "class employee:\n    def __init__(self):\n        print(\"im craeting non parameterized constructor\")\n        \n    def greet(self,name,eid):\n        print(\"welcome for joining\",name,eid)\n    emp1 = employee()\n    emp1.greet(\"ashore\", 78)",
      "metadata": {},
      "execution_count": null,
      "outputs": []
    },
    {
      "cell_type": "code",
      "source": "",
      "metadata": {},
      "execution_count": null,
      "outputs": []
    },
    {
      "cell_type": "code",
      "source": "",
      "metadata": {},
      "execution_count": null,
      "outputs": []
    }
  ]
}