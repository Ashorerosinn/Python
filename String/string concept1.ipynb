{
  "metadata": {
    "language_info": {
      "codemirror_mode": {
        "name": "python",
        "version": 3
      },
      "file_extension": ".py",
      "mimetype": "text/x-python",
      "name": "python",
      "nbconvert_exporter": "python",
      "pygments_lexer": "ipython3",
      "version": "3.8"
    },
    "kernelspec": {
      "name": "python",
      "display_name": "Python (Pyodide)",
      "language": "python"
    }
  },
  "nbformat_minor": 4,
  "nbformat": 4,
  "cells": [
    {
      "cell_type": "code",
      "source": "s=\"welcome ton python\"\nprint('to' in s)\nprint('hello' in s)\nprint('python in s)",
      "metadata": {},
      "execution_count": null,
      "outputs": []
    },
    {
      "cell_type": "code",
      "source": "s=\"python is object orienterd language\"\nk=s.partition('and')",
      "metadata": {},
      "execution_count": null,
      "outputs": []
    },
    {
      "cell_type": "code",
      "source": "type(k)",
      "metadata": {},
      "execution_count": null,
      "outputs": []
    },
    {
      "cell_type": "code",
      "source": "s1= \"  hello  python  world  \"\ns1",
      "metadata": {},
      "execution_count": null,
      "outputs": []
    },
    {
      "cell_type": "code",
      "source": "s1.strip()",
      "metadata": {},
      "execution_count": null,
      "outputs": []
    },
    {
      "cell_type": "code",
      "source": "s1.rstrip()",
      "metadata": {},
      "execution_count": null,
      "outputs": []
    },
    {
      "cell_type": "code",
      "source": "s1.lstrip()",
      "metadata": {},
      "execution_count": null,
      "outputs": []
    },
    {
      "cell_type": "code",
      "source": "a=\"************hello****************wrold**************\"\n",
      "metadata": {},
      "execution_count": null,
      "outputs": []
    },
    {
      "cell_type": "code",
      "source": "str1=\"how r u\"\nstr1.startswith('ho')",
      "metadata": {
        "trusted": true
      },
      "execution_count": null,
      "outputs": []
    },
    {
      "cell_type": "code",
      "source": "str1.endswith(\"u\")",
      "metadata": {},
      "execution_count": null,
      "outputs": []
    },
    {
      "cell_type": "code",
      "source": "str1.endswith(\"r\")",
      "metadata": {},
      "execution_count": null,
      "outputs": []
    },
    {
      "cell_type": "code",
      "source": "s=\"welcome everyone\"\nlen(s)",
      "metadata": {},
      "execution_count": null,
      "outputs": []
    },
    {
      "cell_type": "code",
      "source": "st=\"welcome everyone\"\nst=st.centre(20,\"*\")\nprint(st)\nlen(st)",
      "metadata": {},
      "execution_count": null,
      "outputs": []
    },
    {
      "cell_type": "code",
      "source": "st=\"welcome everyone\"\nst=st.centre(100,\"*\")\nprint(st)\nlen(st)",
      "metadata": {
        "trusted": true
      },
      "execution_count": null,
      "outputs": []
    },
    {
      "cell_type": "code",
      "source": "st=\"welcome everyone\"\nst=st.rjust(20,\"&\")\nprint(st)\n",
      "metadata": {},
      "execution_count": null,
      "outputs": []
    },
    {
      "cell_type": "code",
      "source": "st=\"welcome everyone\"\nst=st.lust(20,\"&\")\nprint(st)\n",
      "metadata": {},
      "execution_count": null,
      "outputs": []
    },
    {
      "cell_type": "code",
      "source": "st",
      "metadata": {},
      "execution_count": null,
      "outputs": []
    },
    {
      "cell_type": "code",
      "source": "k=st.index(\"o\")\nprint(K)",
      "metadata": {},
      "execution_count": null,
      "outputs": []
    },
    {
      "cell_type": "code",
      "source": "m='12345678A'\nprint(m.isalpha())\nprint(m.isalnum())\nprint(m.isdecimal())\nprint(m.isnumeric())",
      "metadata": {},
      "execution_count": null,
      "outputs": []
    },
    {
      "cell_type": "code",
      "source": "m='12345abcde'\nprint(m.isalpha())\nprint(m.isalnum())\nprint(m.isdecimal())\nprint(m.isnumeric())",
      "metadata": {},
      "execution_count": null,
      "outputs": []
    },
    {
      "cell_type": "code",
      "source": "m='HELLO'\nprint(m.isupper())\nprint(m.islower())",
      "metadata": {},
      "execution_count": null,
      "outputs": []
    },
    {
      "cell_type": "code",
      "source": "s=\"one two three four five one twon three four five\"",
      "metadata": {},
      "execution_count": null,
      "outputs": []
    },
    {
      "cell_type": "code",
      "source": "",
      "metadata": {},
      "execution_count": null,
      "outputs": []
    },
    {
      "cell_type": "code",
      "source": "print(len(s))",
      "metadata": {},
      "execution_count": null,
      "outputs": []
    },
    {
      "cell_type": "code",
      "source": "l=s.rfind(\"r\")",
      "metadata": {},
      "execution_count": null,
      "outputs": []
    },
    {
      "cell_type": "code",
      "source": "x=int(input('menu \\n 1.Area of circle \\n 2.area of rectangle \\n'))\na=int(input('enter 1st num'))\nb=int(input('enter 2nd num'))\nif x==1:\n    print('Area of circle = ',a**)\nelif x==2:\n    print('Area of rectangle = ',a*b)\nelse :\n    print('wrong input')\n",
      "metadata": {
        "trusted": true
      },
      "execution_count": null,
      "outputs": []
    },
    {
      "cell_type": "code",
      "source": " area = s**2\n    print(\"Area of Square =\", area)\nelif opt==2:\n    a = int(input('enter length of rect:'))\n    b = int(input('enter width of rect:'))\n    area = a*b\n    print(\"Area of Rectangle =\", area)\nelif opt==3:\n    r = int(input('enter radius of circle:'))\n    area = 3.14*(r**2)\n    print(\"Area of circle =\", area)\nelif opt==4:\n    b = int(input('enter base of triangle:'))\n    h = int(input('enter height of triangle:'))\n    area = 0.5*b*h\n    print(\"Area of Triangle =\", area)\nelse:\n    print(\"Wrong menu option\")",
      "metadata": {},
      "execution_count": null,
      "outputs": []
    },
    {
      "cell_type": "code",
      "source": "",
      "metadata": {},
      "execution_count": null,
      "outputs": []
    }
  ]
}