{
  "metadata": {
    "language_info": {
      "codemirror_mode": {
        "name": "python",
        "version": 3
      },
      "file_extension": ".py",
      "mimetype": "text/x-python",
      "name": "python",
      "nbconvert_exporter": "python",
      "pygments_lexer": "ipython3",
      "version": "3.8"
    },
    "kernelspec": {
      "name": "python",
      "display_name": "Python (Pyodide)",
      "language": "python"
    }
  },
  "nbformat_minor": 4,
  "nbformat": 4,
  "cells": [
    {
      "cell_type": "code",
      "source": "import math\nimport sys\ntry:\n    print(math.exp(1000))\nexcept overflowError:\n    print(sys.exe_info())\nelse:\n    print(\"no exception occured\")\n    \n    \n    ",
      "metadata": {},
      "execution_count": null,
      "outputs": []
    },
    {
      "cell_type": "code",
      "source": "try:\n    print(math.exp(100))\nexcept overflowError:\n    print(sys.exe_info())\nelse:\n    print(\"no exception occured\")\n    \n          ",
      "metadata": {},
      "execution_count": null,
      "outputs": []
    },
    {
      "cell_type": "code",
      "source": "try:\n    print(math.exp(1000))\nexcept overflowError:\n    print(sys.exe_info()[1])\nelse:\n    print(\"no exception occured\")",
      "metadata": {},
      "execution_count": null,
      "outputs": []
    },
    {
      "cell_type": "code",
      "source": "try:\n    print(math.exp(1000))\nexcept overflowError:\n    print(sys.exe_info()[0])\nelse:\n    print(\"no exception occured\")",
      "metadata": {},
      "execution_count": null,
      "outputs": []
    },
    {
      "cell_type": "code",
      "source": "try:\n    print(math.exp(1000))\nexcept overflowError:\n    print(sys.exe_info()[0])\nelse:\n    print(\"no exception occured\")\nfinally:\n    print(\"program is completed...clean the memory\")\n    ",
      "metadata": {},
      "execution_count": null,
      "outputs": []
    },
    {
      "cell_type": "code",
      "source": "import math\ntry:\n    print(math.exp(1000))\nexcept overflowError:\n    print(sys.exe_info())\nelse:\n    print(\"no exception occured\")\nfinally:\n    print(\"program is completed...clean the memory\")\n    ",
      "metadata": {},
      "execution_count": null,
      "outputs": []
    },
    {
      "cell_type": "code",
      "source": "#Zero division method\na=5\nb=0 # the exception when the divisor in the divison is 0\nc=a/b\nprint(c)",
      "metadata": {
        "trusted": true
      },
      "execution_count": null,
      "outputs": []
    },
    {
      "cell_type": "code",
      "source": "a=5\nb=0\ntry:\n    print(a/b)\nexcept ZeroDivisionError\n   print(\"number cannot be divided zero\")",
      "metadata": {},
      "execution_count": null,
      "outputs": []
    },
    {
      "cell_type": "code",
      "source": "a=10\nb=0\ntry:\n    print(a/b)\nexcept:\n    print(\"number cannot be divided zero\")",
      "metadata": {},
      "execution_count": null,
      "outputs": []
    },
    {
      "cell_type": "code",
      "source": "import sys\na=10\nb=0\ntry:\n    print(a/b)\nexcept:\n    print(sys_exe_info())",
      "metadata": {},
      "execution_count": null,
      "outputs": []
    },
    {
      "cell_type": "code",
      "source": "import sys\na=10\nb=0\ntry:\n    print(a/b)\nexcept:\n    print(sys_exe_info()[1])",
      "metadata": {},
      "execution_count": null,
      "outputs": []
    },
    {
      "cell_type": "code",
      "source": "import sys\na=10\nb=10\ntry:\n    print(a/b)\nexcept:\n    print(sys_exe_info())\nelse:\n    print(\"no exception occured\")",
      "metadata": {},
      "execution_count": null,
      "outputs": []
    },
    {
      "cell_type": "code",
      "source": "import sys\na=10\nb=10\ntry:\n    print(a/b)\nexcept:\n    print(sys_exe_info())\nelse:\n    print(\"no exception occured\")\nfinally:\n    print(\"Run this block for cleanup process\")",
      "metadata": {},
      "execution_count": null,
      "outputs": []
    },
    {
      "cell_type": "code",
      "source": "#Name error\ntry:\n    print(y)\nexcept:\n    print(\"y is not defined)",
      "metadata": {},
      "execution_count": null,
      "outputs": []
    },
    {
      "cell_type": "code",
      "source": "import sys\ntry:\n    print(y)\nexcept:\n    print(sys.exe_info())",
      "metadata": {
        "trusted": true
      },
      "execution_count": null,
      "outputs": []
    },
    {
      "cell_type": "code",
      "source": "x=10\ntry:\n    print(x)\nexcept:\n    print(sys.exe_info())",
      "metadata": {
        "trusted": true
      },
      "execution_count": null,
      "outputs": []
    },
    {
      "cell_type": "code",
      "source": "a=12\nb='Ashore'\ntry:\n    assert a==b\nexcept AssertionError:\n    print(sys.exe_info())",
      "metadata": {},
      "execution_count": null,
      "outputs": []
    },
    {
      "cell_type": "code",
      "source": "#File not found Error\nimport os\nimport sys\ntry:\n    os.remove(\"test.txt')\nexcept:\n     print(sys.exe_info())\nelse:\n    print(\"no eception occured\")\nfinally:\n        print(\"run this code always\")",
      "metadata": {},
      "execution_count": null,
      "outputs": []
    },
    {
      "cell_type": "code",
      "source": "#ModulenotFoundError\ntry:\n    import sys\nexcept ModuleNotFoundError:\n    print(\"module not found in error\")\n    ",
      "metadata": {},
      "execution_count": null,
      "outputs": []
    },
    {
      "cell_type": "code",
      "source": "#KeyError\nm={1:'divya',2:'ashore',3:'rekha'}\ntry:\n    print(m[4])\nexcept:\n    print(\"keyerror exception occured\")\n",
      "metadata": {},
      "execution_count": null,
      "outputs": []
    },
    {
      "cell_type": "code",
      "source": "#Index Error\nl=[1,3,4,5,6]\ntry:\n    print(l[6])\nexcept:\n     print(\"index error\")",
      "metadata": {},
      "execution_count": null,
      "outputs": []
    },
    {
      "cell_type": "code",
      "source": "",
      "metadata": {},
      "execution_count": null,
      "outputs": []
    },
    {
      "cell_type": "code",
      "source": "",
      "metadata": {},
      "execution_count": null,
      "outputs": []
    },
    {
      "cell_type": "code",
      "source": "",
      "metadata": {},
      "execution_count": null,
      "outputs": []
    }
  ]
}