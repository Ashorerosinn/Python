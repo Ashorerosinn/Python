{
  "metadata": {
    "language_info": {
      "codemirror_mode": {
        "name": "python",
        "version": 3
      },
      "file_extension": ".py",
      "mimetype": "text/x-python",
      "name": "python",
      "nbconvert_exporter": "python",
      "pygments_lexer": "ipython3",
      "version": "3.8"
    },
    "kernelspec": {
      "name": "python",
      "display_name": "Python (Pyodide)",
      "language": "python"
    }
  },
  "nbformat_minor": 4,
  "nbformat": 4,
  "cells": [
    {
      "cell_type": "code",
      "source": "class person: #parent class\n    def __init__ (self,name,age):\n        self.name=name\n        self.age=age\n    def personinfo(self):\n        print('name:',self,name,\"age:\",self.age)\n    \n    \n    ",
      "metadata": {
        "trusted": true
      },
      "execution_count": null,
      "outputs": []
    },
    {
      "cell_type": "code",
      "source": "class student(person):\n    def __init__ (self,name,age,stid,fees):\n        person.__init__(self,name,age)\n        self.stid=stid\n        self.fees=fees\n        \n    def studentinfo(self):\n        print(\"id:\",self.stid,\"fees:\",self.fees)\n        \n    s1=student(\"hari\",23,107,2300)\n    print(\"students details\")\n    s1.personinfo()\n    s1.studentinfo()\n        ",
      "metadata": {
        "trusted": true
      },
      "execution_count": null,
      "outputs": []
    },
    {
      "cell_type": "code",
      "source": "class add_sub:   # parent class\n    def __init__(self,x,y):\n        self.a = x+y\n        self.s = x-y\n    def calc(self):\n        print('add:', self.a, 'sub:', self.s\n        ",
      "metadata": {},
      "execution_count": null,
      "outputs": []
    },
    {
      "cell_type": "code",
      "source": "class mul_div(add_sub):\n    def __init__(self,x,y,p,q):\n        add_sub.__init__(self,x,y)\n        self.m=p*q\n        self.d=p/q\n    def calc1(self):\n        print(\"mul:\", self.m, \"div:\", self.d)\ns1=mul_div(5,6,3,8) \ns1.calc()\ns1.calc1()",
      "metadata": {},
      "execution_count": null,
      "outputs": []
    },
    {
      "cell_type": "code",
      "source": "class college:\n       def __init_(self,name, year):\n        self.name=name\n        self.year-year\n    def collegeinfo(self):\n        print('name: ', self.name, 'year:',self. year)\n\nclass details (college):\n    def __init__(self,name, year, passout, dep):\n    college._init_(self,name, year)\n    self.passout=passout\n    self.dep=dep\n    def detailsinfo(self):\n        print('passout:',self.passout, dep: ',self.dep)\nR=details('Lingesh',2011,2013, 'cse')\nprint('details')\nR.collegeinfo()\nR.detailsinfo()\n    \n\n        ",
      "metadata": {
        "trusted": true
      },
      "execution_count": null,
      "outputs": []
    },
    {
      "cell_type": "code",
      "source": "class UG:\n    def __init__(self,c1):\n        self.c1=c1\n    def UGinfo(self):\n        print('course:', self.c1)\nclass PG:\n    def __init__(self,c2):\n        self.c2=c2\n    def PGinfo(self):\n        print('course:', self.c2)\nclass student(UG,PG):\n    def __init__(self,c1,c2,name,dep):\n        UG.__init__(self,c1)\n        PG.__init__(self,c2)\n        self.name=name\n        self.dep=dep\n    def studentinfo(self):\n        print(\"name:\", self.name, \"dep:\", self.dep)\nR=student('UG-computers','PG-analytics','virat','cse')\nprint(\"details\")\nR.UGinfo()\nR.PGinfo()\nR.studentinfo()",
      "metadata": {},
      "execution_count": null,
      "outputs": []
    },
    {
      "cell_type": "code",
      "source": "class student(UG,PG):\n    def __init__(self,c1,c2,name,dep):\n        UG.__init__(self,c1)\n        PG.__init__(self,c2)\n        self.name=name\n        self.dep=dep\n    def studentinfo(self):\n        print(\"name:\", self.name, \"dep:\", self.dep)\n        \nclass UG:\n    def __init__(self,c1):\n        self.c1=c1\n    def UGinfo(self):\n        print('course:', self.c1)\nclass PG:\n    def __init__(self,c2):\n        self.c2=c2\n    def PGinfo(self):\n        print('course:', self.c2)\n\nR=student('UG-computers','PG-analytics','virat','cse')\nprint(\"details\")\nR.UGinfo()\nR.PGinfo()",
      "metadata": {
        "trusted": true
      },
      "execution_count": null,
      "outputs": []
    },
    {
      "cell_type": "code",
      "source": "class college:\n       def __init_(self,name, year):\n        self.name=name\n        self.year-year\n    def collegeinfo(self):\n        print('name: ', self.name, 'year:',self. year)\n        Markdown\n        \nclass details (college):\n    def __init__(self,name, year, passout, dep):\n    college._init_(self,name, year)\n    self.passout=passout\n    self.dep=dep\n    def detailsinfo(self):\n        print('passout:',self.passout, dep: ',self.dep)\n              \nclass student(details):\n        def __init__(self,id,passout,dep):\n              self.id=id\n        def studentinfo(self):\n              print(\"id:\",self.id)\n              \nR = student(\"Ash\",2020,\"EIE\",1100)\n    R.collegeinfo()\n    R.detailsinfo()         \n              ",
      "metadata": {
        "trusted": true
      },
      "execution_count": null,
      "outputs": []
    },
    {
      "cell_type": "code",
      "source": "#Multilevel inheritance\nclass BCA:\n    def __init__(self, s1):\n        self.s1=s1\n    def BCAinfo(self):\n    print('subject:,self.s1)\nclass MCA(BA):\n    def __init__(self, s1, s2):\n      BCA.__init__(self, s1)\n      self.s2=s2\n    def MCAinfo(self):\n      print('topic:',self.s2)\nclass student(MCA):\n    def __init__(self, s1, s2, name,dept):\n      MCA.__init__(self, s1, s2)\n      self.name=name\n      self.dept=dept\n    def studentinfo(self):\n      print(\"name\":,self.name,\"dept\":,self.dept)\n          \nR=student('BCA-bachelor', 'MCA-master','ash','computer application')\nprint('details')\nR.BCAinfo()\nR.MCAinfo()\nR.studentinfo()",
      "metadata": {},
      "execution_count": null,
      "outputs": []
    },
    {
      "cell_type": "code",
      "source": "class game:\n    def __init__(self,games):\n        self.games=games\n    def show_game (self):\n        print(\"welcome in game:\", self.games)\nclass captain (game):\n    def __init__(self,games, captains):\n        game.__init__(self,games)\n        self.captains=captains\n    def show_captain(self):\n        game.show_game(self)\n         print(self.captains)\nclass vice_captain (captain):\n    def __init__(self,games, captains, vice_captains):\n        captain.__init__(self,games, captains)\n        self.vice_captains=vice_captains\n       \n    def show_vice_captain(self):\n        print(self.vice_captains)",
      "metadata": {},
      "execution_count": null,
      "outputs": []
    },
    {
      "cell_type": "code",
      "source": "#hierachical inheritance\n\nclass game:\n    def __init__(self,games):\n        self.games=games\n    def show_game(self):\n        print('welcome in game:', self.games)\n        \nclass captain(game):\n    def __init__(self,games,captains):\n        game.__init__(self,games)\n        self.captains=captains\n    def show_captain(self):\n        game.show_game(self)\n        print(self.captains)\n        \nclass vice_captain(game):\n    def __init__(self,games,vice_captains):\n        game.__init__(self,games)\n        self.vice_captains=vice_captains\n    def show_vice_captain(self):\n        game.show_game(self)\n        print(self.vice_captains)\n        \ngvc=vice_captain('cricket','rohit')\ngc=captain('basketball','virat')\ngvc.show_vice_captain()\ngc.show_captain()",
      "metadata": {},
      "execution_count": null,
      "outputs": []
    },
    {
      "cell_type": "code",
      "source": "#Hybrid inheritance\nclass company:\n    def __init__(self,comp):\n        self.comp=comp\n    def comp1(self):\n        print('Company name:',self.comp)\nclass sector:\n    def __init__(self,domain):\n        self.domain=domain\n    def sec(self):\n        print('Sector:',self.domain)\nclass name(company,sector):\n    def __init__(self,comp,domain,names):\n        company.__init__(self,comp)\n        sector.__init__(self,domain)\n        self.names=names\n    def employ(self):\n        print('Name:',self.names)\n        company.comp1(self)\n        sector.sec(self)\nclass depart(name):\n    def __init__(self,names,comp,domain,dep):\n        name.__init__(self,names,comp,domain)\n        self.dep=dep\n    def post(self):\n        print('Post:',self.dep)\n        \n\nob1=depart('TCS','IT','Arun','Analyst')\nob1.employ()\nob1.post()\n\n",
      "metadata": {},
      "execution_count": null,
      "outputs": []
    },
    {
      "cell_type": "code",
      "source": "#super set\nclass A:\n    def __init __(self):\n        print(\"Constructor of Base class\")\n\n    def show (self):\n    print(\"Creating function in class A\")\nclass B(A):\n    def __init__(self):\n    super().__init_()\n    print(\"Constructor of child class\")\n    def show (self):\n        \nb= B()\nb.show()\nsuper().show()\nprint(\"Creating function in class B\")",
      "metadata": {},
      "execution_count": null,
      "outputs": []
    },
    {
      "cell_type": "code",
      "source": "#super set without super().show()\nclass A:\n    def __init __(self):\n        print(\"Constructor of Base class\")\n\n    def show (self):\n    print(\"Creating function in class A\")\nclass B(A):\n    def __init__(self):\n    super().__init_()\n    print(\"Constructor of child class\")\n    def show (self):\n        \nb= B()\nb.show()\nprint(\"Creating function in class B\")",
      "metadata": {},
      "execution_count": null,
      "outputs": []
    },
    {
      "cell_type": "code",
      "source": "#method resolution order\nclass A:\n    def __init__(self):\n        print(\"constructor of a Base class\")\n        \n    def show(self):\n        print(\"creating function in class\")\n        \nclass B:\n    def __init__(self):\n         print(\"creating function in class\")\nclass c(A,B):\n     def __init__(self):\n            super().__init__()\n            print(\"constructor of child class\")\ndef show(self)\n        super.show()\n        print(\"creating a function in c\")\n        \n\n    \n        \n        \n    ",
      "metadata": {},
      "execution_count": null,
      "outputs": []
    },
    {
      "cell_type": "code",
      "source": "class A:\n    def __init__(self):\n        print(\"constructor of a Base class\")\n        \n    def show(self):\n        print(\"creating function in class\")\n        \nclass B:\n    def __init__(self):\n         print(\"creating function in class\")\n    def show1(self)\nclass c(A,B):\n     def __init__(self):\n            super().__init__()\n            print(\"constructor of child class\")\ndef show(self)\n        super().show1()\n        print(\"creating a function in c\")",
      "metadata": {},
      "execution_count": null,
      "outputs": []
    },
    {
      "cell_type": "code",
      "source": "#polymorphism\nprint(len('polymorphism')\nprint(len([1,2,5.2,4,5.6,8]))",
      "metadata": {},
      "execution_count": null,
      "outputs": []
    },
    {
      "cell_type": "code",
      "source": "",
      "metadata": {},
      "execution_count": null,
      "outputs": []
    },
    {
      "cell_type": "code",
      "source": "",
      "metadata": {},
      "execution_count": null,
      "outputs": []
    },
    {
      "cell_type": "code",
      "source": "",
      "metadata": {},
      "execution_count": null,
      "outputs": []
    },
    {
      "cell_type": "code",
      "source": "",
      "metadata": {},
      "execution_count": null,
      "outputs": []
    },
    {
      "cell_type": "code",
      "source": "",
      "metadata": {},
      "execution_count": null,
      "outputs": []
    },
    {
      "cell_type": "code",
      "source": "",
      "metadata": {},
      "execution_count": null,
      "outputs": []
    }
  ]
}