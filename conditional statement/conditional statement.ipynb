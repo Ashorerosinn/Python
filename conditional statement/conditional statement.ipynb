{
  "metadata": {
    "language_info": {
      "codemirror_mode": {
        "name": "python",
        "version": 3
      },
      "file_extension": ".py",
      "mimetype": "text/x-python",
      "name": "python",
      "nbconvert_exporter": "python",
      "pygments_lexer": "ipython3",
      "version": "3.8"
    },
    "kernelspec": {
      "name": "python",
      "display_name": "Python (Pyodide)",
      "language": "python"
    }
  },
  "nbformat_minor": 4,
  "nbformat": 4,
  "cells": [
    {
      "cell_type": "code",
      "source": "abc==10\nif(abc==10)\nprint(\"hi how are you\")\nprint(\"hello world\")",
      "metadata": {
        "trusted": true
      },
      "execution_count": 1,
      "outputs": [
        {
          "ename": "<class 'SyntaxError'>",
          "evalue": "expected ':' (<ipython-input-1-4e4ad8319f5d>, line 2)",
          "traceback": [
            "\u001b[0;36m  Input \u001b[0;32mIn [1]\u001b[0;36m\u001b[0m\n\u001b[0;31m    if(abc==10)\u001b[0m\n\u001b[0m               ^\u001b[0m\n\u001b[0;31mSyntaxError\u001b[0m\u001b[0;31m:\u001b[0m expected ':'\n"
          ],
          "output_type": "error"
        }
      ]
    },
    {
      "cell_type": "code",
      "source": "a=7\nb=6\nif(a==b)\nprint(\"both are equal\")\nprint(\"not equal\")\n",
      "metadata": {
        "trusted": true
      },
      "execution_count": 2,
      "outputs": [
        {
          "ename": "<class 'SyntaxError'>",
          "evalue": "expected ':' (<ipython-input-2-22ac60673b2f>, line 3)",
          "traceback": [
            "\u001b[0;36m  Input \u001b[0;32mIn [2]\u001b[0;36m\u001b[0m\n\u001b[0;31m    if(a==b)\u001b[0m\n\u001b[0m            ^\u001b[0m\n\u001b[0;31mSyntaxError\u001b[0m\u001b[0;31m:\u001b[0m expected ':'\n"
          ],
          "output_type": "error"
        }
      ]
    },
    {
      "cell_type": "code",
      "source": "var==100\nif var\nprint(\"its true\")\nprint(\"var\")\nelse\nprint('its false\")\n    print(\"var\")",
      "metadata": {},
      "execution_count": null,
      "outputs": []
    },
    {
      "cell_type": "code",
      "source": "d={\"vechicle\":\"car\",\"model\":\"hatchback\"}\nkey= input(\"Enter the key to be checked:\")\nif key in d.keys():\n    print(\"key value is:\")\n    print(d[keys])\nelse:\n        print(\"key is not present\")",
      "metadata": {
        "trusted": true
      },
      "execution_count": 4,
      "outputs": [
        {
          "name": "stdout",
          "text": "key is not present\n",
          "output_type": "stream"
        },
        {
          "output_type": "stream",
          "name": "stdin",
          "text": "Enter the key to be checked: model\n"
        }
      ]
    },
    {
      "cell_type": "code",
      "source": "var=100\nif var==200:\nprint(\"1-Got a true expression value\")\nelif var==150:\nprint(\"2-Got the true expression value\")\nelif var==250:\nprint(\"3-Got the true expression value\")\nelse:\n    print(\"4-Got the false expression value\")\n    print(\"good bye\")\n    \n",
      "metadata": {
        "trusted": true
      },
      "execution_count": 5,
      "outputs": [
        {
          "ename": "<class 'IndentationError'>",
          "evalue": "expected an indented block after 'if' statement on line 2 (<ipython-input-5-b997466c47bb>, line 3)",
          "traceback": [
            "\u001b[0;36m  Input \u001b[0;32mIn [5]\u001b[0;36m\u001b[0m\n\u001b[0;31m    print(\"1-Got a true expression value\")\u001b[0m\n\u001b[0m    ^\u001b[0m\n\u001b[0;31mIndentationError\u001b[0m\u001b[0;31m:\u001b[0m expected an indented block after 'if' statement on line 2\n"
          ],
          "output_type": "error"
        }
      ]
    },
    {
      "cell_type": "code",
      "source": "#nested if -else statement\nvar=100\nif var<200:\n    print(\"expression value is less than 200\")\n    if var==200:\n        print(\"it is 200\")\n    elif var == 100:\n        print(\"it is 100\")\n    else:\n         print(\"it is not 100\")\n    else:\n         print(\"could not find the true expression\")\n             print(\"good bye\")\n        ",
      "metadata": {
        "trusted": true
      },
      "execution_count": 6,
      "outputs": [
        {
          "ename": "<class 'SyntaxError'>",
          "evalue": "invalid syntax (<ipython-input-6-d5d658624c23>, line 11)",
          "traceback": [
            "\u001b[0;36m  Input \u001b[0;32mIn [6]\u001b[0;36m\u001b[0m\n\u001b[0;31m    else:\u001b[0m\n\u001b[0m    ^\u001b[0m\n\u001b[0;31mSyntaxError\u001b[0m\u001b[0;31m:\u001b[0m invalid syntax\n"
          ],
          "output_type": "error"
        }
      ]
    },
    {
      "cell_type": "code",
      "source": "#star pettern\nfor i in range(5)\n    for j in range(j)\n      print(\"&\",end=\"\")\n        print()",
      "metadata": {},
      "execution_count": null,
      "outputs": []
    },
    {
      "cell_type": "code",
      "source": "for i in range(5)\n    for j in range(i+1)\n      print(\"&\",end=\"\")\n        print()",
      "metadata": {},
      "execution_count": null,
      "outputs": []
    },
    {
      "cell_type": "code",
      "source": "for i in range(6)\n    for j in range(i+1)\n      print(i,end=\"\")\n        print()",
      "metadata": {},
      "execution_count": null,
      "outputs": []
    },
    {
      "cell_type": "code",
      "source": "#alphabet pattern\nfor i in range(6)\n    for j in range(i+1)\n      print(j,end=\"\")\n        print()",
      "metadata": {},
      "execution_count": null,
      "outputs": []
    },
    {
      "cell_type": "code",
      "source": "for i in range(6)\n    for j in range(i+1)\n      print(chr(65+1),end=\"\")\n        print()",
      "metadata": {},
      "execution_count": null,
      "outputs": []
    },
    {
      "cell_type": "code",
      "source": "for i in range(6)\n    for j in range(i+1)\n      print(chr(65+j),end=\"\")\n        print()",
      "metadata": {},
      "execution_count": null,
      "outputs": []
    },
    {
      "cell_type": "code",
      "source": "for i in range(6)\n    for j in range(i+1)\n      print(chr(97+i),end=\"\")\n        print()",
      "metadata": {},
      "execution_count": null,
      "outputs": []
    },
    {
      "cell_type": "code",
      "source": "#nested while loop\ni=1\nwhile i <=5 :\n    j=1\nwhile j <=5 :\n    print(i*j,end=\"\")\n    j=j+1\n    print()\n    i=i+1\n\n    \n\n",
      "metadata": {
        "trusted": true
      },
      "execution_count": null,
      "outputs": []
    },
    {
      "cell_type": "code",
      "source": "def my():\n    print(\"hello lets learn function\")\n    my()",
      "metadata": {},
      "execution_count": null,
      "outputs": []
    },
    {
      "cell_type": "code",
      "source": "def my(): #function definition\n    print(\"hello lets learn function\")\n    my()",
      "metadata": {},
      "execution_count": null,
      "outputs": []
    },
    {
      "cell_type": "code",
      "source": "def sub():\n    a=int(input(\"enter the number\")\n    b=int(input(\"enter the number\")\n          c=a-b\n          print(\"sub\",c)\n          sub()\n\n\n",
      "metadata": {
        "trusted": true
      },
      "execution_count": null,
      "outputs": []
    },
    {
      "cell_type": "code",
      "source": "#\ni=[1,2,3,4,5,6,7,8,9,10,11,12,13,14,15]\nfor i in range(15)\nif i%2==0:\n    print(i)\n",
      "metadata": {
        "trusted": true
      },
      "execution_count": null,
      "outputs": []
    },
    {
      "cell_type": "code",
      "source": "",
      "metadata": {},
      "execution_count": null,
      "outputs": []
    }
  ]
}